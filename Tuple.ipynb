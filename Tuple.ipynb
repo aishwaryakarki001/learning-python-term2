{
 "cells": [
  {
   "cell_type": "code",
   "execution_count": 9,
   "metadata": {},
   "outputs": [],
   "source": [
    "#1: Reverse the tuple\n",
    "\n",
    "#Defining function to reverse the tuple using slicing\n",
    "def Reverse(tuples):\n",
    "    new_tup = tuples[::-1]\n",
    "    return new_tup\n",
    "\n",
    "tuples = (1,20,22,24,34,55,55,87,90)"
   ]
  },
  {
   "cell_type": "code",
   "execution_count": 10,
   "metadata": {},
   "outputs": [
    {
     "data": {
      "text/plain": [
       "(90, 87, 55, 55, 34, 24, 22, 20, 1)"
      ]
     },
     "execution_count": 10,
     "metadata": {},
     "output_type": "execute_result"
    }
   ],
   "source": [
    "Reverse(tuples)"
   ]
  },
  {
   "cell_type": "code",
   "execution_count": 23,
   "metadata": {},
   "outputs": [
    {
     "name": "stdout",
     "output_type": "stream",
     "text": [
      "20\n"
     ]
    }
   ],
   "source": [
    "#2: Access value 20 from the tuple\n",
    "\n",
    "tuple1 = ([1,2,3],[50,60,80,40],[78,20,89,48,51])\n",
    "print(tuple1[2][1])"
   ]
  },
  {
   "cell_type": "code",
   "execution_count": 25,
   "metadata": {},
   "outputs": [
    {
     "name": "stdout",
     "output_type": "stream",
     "text": [
      "(50,)\n"
     ]
    }
   ],
   "source": [
    "#3: Create a tuple with a single item 50\n",
    "\n",
    "#Creating tuple with only one element\n",
    "tupleone = (50,)\n",
    "print(tupleone)"
   ]
  },
  {
   "cell_type": "code",
   "execution_count": 28,
   "metadata": {},
   "outputs": [
    {
     "name": "stdout",
     "output_type": "stream",
     "text": [
      "47\n",
      "51\n",
      "68\n",
      "[94, 98]\n"
     ]
    }
   ],
   "source": [
    "#4: Unpack the tuple into 4 variables\n",
    "\n",
    "tuple2 = (47,51,68,94,98)\n",
    "\n",
    "(x,y,z, *w) = tuple2\n",
    "print(x)\n",
    "print(y)\n",
    "print(z)\n",
    "print(w)"
   ]
  },
  {
   "cell_type": "code",
   "execution_count": 29,
   "metadata": {},
   "outputs": [
    {
     "name": "stdout",
     "output_type": "stream",
     "text": [
      "('Cauliflower', 'Onion', 'Ladyfinger', 'Potato')\n",
      "('apple', 'banana', 'peach')\n"
     ]
    }
   ],
   "source": [
    "#5: Swap two tuples in Python\n",
    "\n",
    "fruits = (\"apple\" ,\"banana\", \"peach\" )\n",
    "vegetable = (\"Cauliflower\", \"Onion\", \"Ladyfinger\", \"Potato\")\n",
    "\n",
    "fruits , vegetable = vegetable , fruits\n",
    "\n",
    "print(fruits)\n",
    "print(vegetable)"
   ]
  },
  {
   "cell_type": "code",
   "execution_count": 55,
   "metadata": {},
   "outputs": [
    {
     "name": "stdout",
     "output_type": "stream",
     "text": [
      "(4, 5, 6)\n"
     ]
    }
   ],
   "source": [
    "#6: Copy specific elements from one tuple to a new tuple\n",
    "\n",
    "tuple3 = (1,2,4,5,6,2,7,8,7,8)\n",
    "tuple4 = tuple3[2:5]\n",
    "print(tuple4)"
   ]
  },
  {
   "cell_type": "code",
   "execution_count": 31,
   "metadata": {},
   "outputs": [
    {
     "name": "stdout",
     "output_type": "stream",
     "text": [
      "([1, 2, 3], [50, 60, 80, 40], [77, 20, 89, 48, 51])\n"
     ]
    }
   ],
   "source": [
    "#7: Modify the tuple\n",
    "tuple1[2][0] = 77\n",
    "print(tuple1)"
   ]
  },
  {
   "cell_type": "code",
   "execution_count": 53,
   "metadata": {},
   "outputs": [
    {
     "name": "stdout",
     "output_type": "stream",
     "text": [
      "[(3, 6, 2), (2, 4, 3), (4, 8, 6), (5, 10, 8)]\n"
     ]
    }
   ],
   "source": [
    "#8: Sort a tuple of tuples by 2nd item\n",
    "\n",
    "tuple5 = ((2,4,3),(3,6,2),(4,8,6),(5,10,8))\n",
    "tuple5 = (sorted(list(tuple5), key=lambda x: x[2]))\n",
    "print(tuple5)"
   ]
  },
  {
   "cell_type": "code",
   "execution_count": 56,
   "metadata": {},
   "outputs": [
    {
     "name": "stdout",
     "output_type": "stream",
     "text": [
      "2\n"
     ]
    }
   ],
   "source": [
    "#9: Count the number of occurrences of item 50 from a tuple\n",
    "\n",
    "print(tuple3.count(7))"
   ]
  },
  {
   "cell_type": "code",
   "execution_count": 62,
   "metadata": {},
   "outputs": [
    {
     "name": "stdout",
     "output_type": "stream",
     "text": [
      "True\n",
      "False\n"
     ]
    }
   ],
   "source": [
    "#10: Check if all items in the tuple are the same\n",
    "\n",
    "tuplesame = (7,7,7,7,7)\n",
    "tups = (5,8,7,8,9,10)\n",
    "\n",
    "#Function to count the same elements in the tuple \n",
    "def checkforsame(tup):\n",
    "    return tup.count(tup[0]) == len(tup)\n",
    "\n",
    "print(checkforsame(tuplesame)) \n",
    "print(checkforsame(tups))"
   ]
  }
 ],
 "metadata": {
  "kernelspec": {
   "display_name": "Python 3",
   "language": "python",
   "name": "python3"
  },
  "language_info": {
   "codemirror_mode": {
    "name": "ipython",
    "version": 3
   },
   "file_extension": ".py",
   "mimetype": "text/x-python",
   "name": "python",
   "nbconvert_exporter": "python",
   "pygments_lexer": "ipython3",
   "version": "3.11.5"
  }
 },
 "nbformat": 4,
 "nbformat_minor": 2
}
