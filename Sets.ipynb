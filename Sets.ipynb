{
 "cells": [
  {
   "cell_type": "code",
   "execution_count": 130,
   "metadata": {},
   "outputs": [],
   "source": [
    "#1.  Add a list of elements to a set\n",
    "num_set1 = {1,2,3,7,5,8,9,14,15,18,49,50}\n",
    "num_list1 = [2,4,6,8,10,12,14,16,18]"
   ]
  },
  {
   "cell_type": "code",
   "execution_count": 131,
   "metadata": {},
   "outputs": [],
   "source": [
    "# Update function to update both sets and list\n",
    "num_set1.update(num_list1)"
   ]
  },
  {
   "cell_type": "code",
   "execution_count": 132,
   "metadata": {},
   "outputs": [
    {
     "name": "stdout",
     "output_type": "stream",
     "text": [
      "{1, 2, 3, 4, 5, 6, 7, 8, 9, 10, 12, 14, 15, 16, 49, 18, 50}\n"
     ]
    }
   ],
   "source": [
    "print(num_set1)"
   ]
  },
  {
   "cell_type": "code",
   "execution_count": 133,
   "metadata": {},
   "outputs": [
    {
     "name": "stdout",
     "output_type": "stream",
     "text": [
      "{5, 6, 7, 8, 9, 10, 12}\n"
     ]
    }
   ],
   "source": [
    "#2: Return a new set of identical items from two sets\n",
    "\n",
    "num_set2 = {5,6,7,8,9,10,12,13}\n",
    "\n",
    "#Using intersection function to identify the intersection of two sets\n",
    "print(num_set1.intersection(num_set2))"
   ]
  },
  {
   "cell_type": "code",
   "execution_count": 134,
   "metadata": {},
   "outputs": [
    {
     "name": "stdout",
     "output_type": "stream",
     "text": [
      "{1, 2, 3, 4, 13, 14, 15, 16, 49, 18, 50}\n"
     ]
    }
   ],
   "source": [
    "#3: Get unique items from two sets\n",
    "\n",
    "#Using symmetric difference function to identify the unique items from two of the sets\n",
    "print(num_set1.symmetric_difference(num_set2))"
   ]
  },
  {
   "cell_type": "code",
   "execution_count": 135,
   "metadata": {},
   "outputs": [
    {
     "name": "stdout",
     "output_type": "stream",
     "text": [
      "None\n"
     ]
    }
   ],
   "source": [
    "#4: Update the first set with items that don’t exist in the second set\n",
    "\n",
    "#Using difference update function to identify the unique items that don’t exist in the second set\n",
    "print(num_set1.difference_update(num_set2))"
   ]
  },
  {
   "cell_type": "code",
   "execution_count": 136,
   "metadata": {},
   "outputs": [
    {
     "name": "stdout",
     "output_type": "stream",
     "text": [
      "{1, 2, 3, 4, 14, 15, 16, 49, 18, 50}\n"
     ]
    }
   ],
   "source": [
    "print(num_set1)"
   ]
  },
  {
   "cell_type": "code",
   "execution_count": 137,
   "metadata": {},
   "outputs": [
    {
     "name": "stdout",
     "output_type": "stream",
     "text": [
      "None\n"
     ]
    }
   ],
   "source": [
    "#5: Remove items from the set at once\n",
    "\n",
    "##Using difference update function to remove the items from set1\n",
    "\n",
    "print(num_set1.difference_update({14,15}))"
   ]
  },
  {
   "cell_type": "code",
   "execution_count": 138,
   "metadata": {},
   "outputs": [
    {
     "name": "stdout",
     "output_type": "stream",
     "text": [
      "{1, 2, 3, 4, 16, 18, 49, 50}\n"
     ]
    }
   ],
   "source": [
    "print(num_set1)"
   ]
  },
  {
   "cell_type": "code",
   "execution_count": 139,
   "metadata": {},
   "outputs": [],
   "source": [
    "num_set2.update({12,18,50})"
   ]
  },
  {
   "cell_type": "code",
   "execution_count": 143,
   "metadata": {},
   "outputs": [
    {
     "name": "stdout",
     "output_type": "stream",
     "text": [
      "{1, 2, 3, 4, 5, 6, 7, 8, 9, 10, 12, 13, 16, 49}\n"
     ]
    }
   ],
   "source": [
    "#6: Return a set of elements present in Set A or B but not both\n",
    "\n",
    "#Using symmetric difference function to return the items from set1 and set2 but not both\n",
    "print(num_set1.symmetric_difference(num_set2))"
   ]
  },
  {
   "cell_type": "code",
   "execution_count": 144,
   "metadata": {},
   "outputs": [
    {
     "name": "stdout",
     "output_type": "stream",
     "text": [
      "{18, 50}\n"
     ]
    }
   ],
   "source": [
    "#7: Check if the two sets have any elements in common. If yes, display the common elements.\n",
    "\n",
    "#Using intersaction function to return the items from set1 and set2 which is common\n",
    "print(num_set1.intersection(num_set2))"
   ]
  },
  {
   "cell_type": "code",
   "execution_count": 146,
   "metadata": {},
   "outputs": [
    {
     "name": "stdout",
     "output_type": "stream",
     "text": [
      "{1, 2, 3, 4, 16, 18, 49, 50}\n"
     ]
    }
   ],
   "source": [
    "#8: Update set1 by adding items from set2, except common items\n",
    "\n",
    "#Using symmetric difference function to update set1 and set2 except the common items\n",
    "num_set1.symmetric_difference_update(num_set2)\n",
    "print(num_set1)"
   ]
  },
  {
   "cell_type": "code",
   "execution_count": 159,
   "metadata": {},
   "outputs": [
    {
     "name": "stdout",
     "output_type": "stream",
     "text": [
      "{1, 2, 3, 4, 7, 5, 6, 16, 8, 9, 10, 13, 12, 49}\n"
     ]
    }
   ],
   "source": [
    "#9: Remove items from set1 that are not common to both set1 and set2\n",
    "\n",
    "#Using symmetric difference function to remove items from  set1 and set2 that are not common in both sets\n",
    "num_set1.symmetric_difference_update(num_set2)\n",
    "print(num_set1)"
   ]
  }
 ],
 "metadata": {
  "kernelspec": {
   "display_name": "Python 3",
   "language": "python",
   "name": "python3"
  },
  "language_info": {
   "codemirror_mode": {
    "name": "ipython",
    "version": 3
   },
   "file_extension": ".py",
   "mimetype": "text/x-python",
   "name": "python",
   "nbconvert_exporter": "python",
   "pygments_lexer": "ipython3",
   "version": "3.11.5"
  }
 },
 "nbformat": 4,
 "nbformat_minor": 2
}
