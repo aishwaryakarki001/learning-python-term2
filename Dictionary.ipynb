{
 "cells": [
  {
   "cell_type": "code",
   "execution_count": 2,
   "metadata": {},
   "outputs": [
    {
     "name": "stdout",
     "output_type": "stream",
     "text": [
      "{'Fruit': 'Apple', 'Vegetable': 'Cauliflower', 'Spice': 'Chilli'}\n"
     ]
    }
   ],
   "source": [
    "#1: Convert two lists into a dictionary\n",
    "\n",
    "keys = [\"Fruit\", \"Vegetable\", \"Spice\"]\n",
    "value = [\"Apple\", \"Cauliflower\", \"Chilli\"]\n",
    "\n",
    "#Using zip function to aggregate two lists\n",
    "dict1 = dict(zip(keys, value))\n",
    "print(dict1)"
   ]
  },
  {
   "cell_type": "code",
   "execution_count": 17,
   "metadata": {},
   "outputs": [
    {
     "name": "stdout",
     "output_type": "stream",
     "text": [
      "{'Fruit': 'Apple', 'Vegetable': 'Cauliflower', 'Spice': 'Chilli', 'Bakery': 'Bread', 'Beverage': 'Orange Juice'}\n"
     ]
    }
   ],
   "source": [
    "#2: Merge two Python dictionaries into one\n",
    "\n",
    "dict2 = {'Bakery': 'Bread', 'Beverage' : 'Orange Juice'}\n",
    "\n",
    "dict3 = {**dict1, **dict2}\n",
    "print(dict3)"
   ]
  },
  {
   "cell_type": "code",
   "execution_count": 40,
   "metadata": {},
   "outputs": [
    {
     "name": "stdout",
     "output_type": "stream",
     "text": [
      "86\n"
     ]
    }
   ],
   "source": [
    "#3: Print the value of key ‘history’ from the below dict\n",
    "\n",
    "studentDetails = {\n",
    "    \"class\": {\n",
    "        \"student\": {\n",
    "            \"name\": \"Aishwarya\",\n",
    "            \"marks\": {\n",
    "                \"Big Data Fundamental\": 65,\n",
    "                \"Python Programming\": 86,\n",
    "                \"Big Data Tools\": 90\n",
    "            }\n",
    "        }\n",
    "    }\n",
    "}\n",
    "\n",
    "print(studentDetails['class']['student']['marks']['Python Programming'])"
   ]
  },
  {
   "cell_type": "code",
   "execution_count": 39,
   "metadata": {},
   "outputs": [
    {
     "name": "stdout",
     "output_type": "stream",
     "text": [
      "{'Aishwarya ': {'Course': 'DSMM', 'Year': 2023}, 'Dhiraj': {'Course': 'DSMM', 'Year': 2023}}\n",
      "{'Course': 'DSMM', 'Year': 2023}\n"
     ]
    }
   ],
   "source": [
    "#4: Initialize dictionary with default values\n",
    "\n",
    "students = ['Aishwarya ', 'Dhiraj']\n",
    "detaildefaults = {\"Course\": 'DSMM', \"Year\": 2023}\n",
    "\n",
    "studentdetails = dict.fromkeys(students, detaildefaults)\n",
    "print(studentdetails)\n",
    "print(studentdetails['Aishwarya '])\n"
   ]
  },
  {
   "cell_type": "code",
   "execution_count": 43,
   "metadata": {},
   "outputs": [
    {
     "name": "stdout",
     "output_type": "stream",
     "text": [
      "{'name': 'Aishwarya', 'course': 'DSMM'}\n"
     ]
    }
   ],
   "source": [
    "#5: Create a dictionary by extracting the keys from a given dictionary\n",
    "\n",
    "studentD = { \n",
    "  \"name\": \"Aishwarya\",\n",
    "  \"age\":25, \n",
    "  \"course\": 'DSMM', \n",
    "  \"city\": 'Toronto' }\n",
    "\n",
    "keys = [\"name\", \"course\"]\n",
    "\n",
    "newDictionary = {x: studentD[x] for x in keys}\n",
    "print(newDictionary)"
   ]
  },
  {
   "cell_type": "code",
   "execution_count": 21,
   "metadata": {},
   "outputs": [
    {
     "name": "stdout",
     "output_type": "stream",
     "text": [
      "{'Vegetable': 'Cauliflower', 'Spice': 'Chilli', 'Bakery': 'Bread'}\n"
     ]
    }
   ],
   "source": [
    "#6: Delete a list of keys from a dictionary\n",
    "\n",
    "keys = ['Fruit', 'Beverage']\n",
    "\n",
    "for i in keys:\n",
    "    dict3.pop(i)\n",
    "print(dict3)"
   ]
  },
  {
   "cell_type": "code",
   "execution_count": 24,
   "metadata": {},
   "outputs": [
    {
     "name": "stdout",
     "output_type": "stream",
     "text": [
      "Chilli exists in dictionary\n"
     ]
    }
   ],
   "source": [
    "#7: Check if a value exists in a dictionary\n",
    "\n",
    "if 'Chilli' in dict3.values():\n",
    "    print('Chilli exists in dictionary')"
   ]
  },
  {
   "cell_type": "code",
   "execution_count": 30,
   "metadata": {},
   "outputs": [
    {
     "name": "stdout",
     "output_type": "stream",
     "text": [
      "{'Vegetable': 'Cauliflower', 'Spice': 'Chilli', 'Bakery-items': 'Bread'}\n"
     ]
    }
   ],
   "source": [
    "#8: Rename the key to a dictionary\n",
    "\n",
    "dict3['Bakery-items'] = dict3.pop('Bakery')\n",
    "print(dict3)"
   ]
  },
  {
   "cell_type": "code",
   "execution_count": 31,
   "metadata": {},
   "outputs": [
    {
     "name": "stdout",
     "output_type": "stream",
     "text": [
      "Toronto\n"
     ]
    }
   ],
   "source": [
    "#9: Get the key to a minimum value from the following dictionary\n",
    "\n",
    "distance = {\n",
    "    'Toronto': 128,\n",
    "    'Barrie': 689,\n",
    "    'Oshawa': 984\n",
    "}\n",
    "print(min(distance, key=distance.get))"
   ]
  },
  {
   "cell_type": "code",
   "execution_count": 32,
   "metadata": {},
   "outputs": [
    {
     "name": "stdout",
     "output_type": "stream",
     "text": [
      "{'attraction': {'Toronto': 'CN', 'Barrie': 'Snowtube', 'Oshawa': 'Lake'}, 'distance': {'Toronto': 128, 'Barrie': 745, 'Oshawa': 984}}\n"
     ]
    }
   ],
   "source": [
    "#10: Change the value of a key in a nested dictionary\n",
    "\n",
    "city= {\n",
    "    'attraction' :{ 'Toronto': 'CN', 'Barrie': 'Snowtube', 'Oshawa': 'Lake' },\n",
    "    'distance' :{ 'Toronto': 128, 'Barrie': 689, 'Oshawa': 984 }\n",
    "}\n",
    "\n",
    "city['distance']['Barrie'] = 745\n",
    "print(city)"
   ]
  }
 ],
 "metadata": {
  "kernelspec": {
   "display_name": "Python 3",
   "language": "python",
   "name": "python3"
  },
  "language_info": {
   "codemirror_mode": {
    "name": "ipython",
    "version": 3
   },
   "file_extension": ".py",
   "mimetype": "text/x-python",
   "name": "python",
   "nbconvert_exporter": "python",
   "pygments_lexer": "ipython3",
   "version": "3.11.5"
  }
 },
 "nbformat": 4,
 "nbformat_minor": 2
}
